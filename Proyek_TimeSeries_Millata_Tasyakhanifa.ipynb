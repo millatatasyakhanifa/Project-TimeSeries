{
  "nbformat": 4,
  "nbformat_minor": 0,
  "metadata": {
    "accelerator": "GPU",
    "colab": {
      "name": "Proyek_TimeSeries_Millata Tasyakhanifa.ipynb",
      "provenance": [],
      "collapsed_sections": []
    },
    "kernelspec": {
      "display_name": "Python 3",
      "name": "python3"
    },
    "language_info": {
      "name": "python"
    }
  },
  "cells": [
    {
      "cell_type": "markdown",
      "metadata": {
        "id": "wm28C9ZUVaxf"
      },
      "source": [
        "### Nama: Millata Tasyakhanifa\n",
        "### Username: millatasyaa\n",
        "### Email: millatatasyakhanifa@gmail.com"
      ]
    },
    {
      "cell_type": "markdown",
      "metadata": {
        "id": "HIaConddYzMl"
      },
      "source": [
        "## Import Library"
      ]
    },
    {
      "cell_type": "code",
      "metadata": {
        "id": "4EZerhi1QjYI"
      },
      "source": [
        "import pandas as pd\n",
        "import numpy as np\n",
        "import matplotlib.pyplot as plt\n",
        "from sklearn.preprocessing import MinMaxScaler\n",
        "import tensorflow as tf\n",
        "from keras.layers import Dense, LSTM"
      ],
      "execution_count": 2,
      "outputs": []
    },
    {
      "cell_type": "markdown",
      "metadata": {
        "id": "Xec7uJwgggLJ"
      },
      "source": [
        "## Read Dataset"
      ]
    },
    {
      "cell_type": "code",
      "metadata": {
        "id": "6KdfkKbpQsLk"
      },
      "source": [
        "df = pd.read_csv(\"/content/GOOG.csv\", date_parser=True)"
      ],
      "execution_count": 3,
      "outputs": []
    },
    {
      "cell_type": "code",
      "metadata": {
        "colab": {
          "base_uri": "https://localhost:8080/",
          "height": 414
        },
        "id": "r31vvVU8iBOQ",
        "outputId": "2303c2ae-b451-4a49-cd17-a24f0430e0a4"
      },
      "source": [
        "df"
      ],
      "execution_count": 4,
      "outputs": [
        {
          "output_type": "execute_result",
          "data": {
            "text/html": [
              "<div>\n",
              "<style scoped>\n",
              "    .dataframe tbody tr th:only-of-type {\n",
              "        vertical-align: middle;\n",
              "    }\n",
              "\n",
              "    .dataframe tbody tr th {\n",
              "        vertical-align: top;\n",
              "    }\n",
              "\n",
              "    .dataframe thead th {\n",
              "        text-align: right;\n",
              "    }\n",
              "</style>\n",
              "<table border=\"1\" class=\"dataframe\">\n",
              "  <thead>\n",
              "    <tr style=\"text-align: right;\">\n",
              "      <th></th>\n",
              "      <th>Date</th>\n",
              "      <th>Open</th>\n",
              "      <th>High</th>\n",
              "      <th>Low</th>\n",
              "      <th>Close</th>\n",
              "      <th>Adj Close</th>\n",
              "      <th>Volume</th>\n",
              "    </tr>\n",
              "  </thead>\n",
              "  <tbody>\n",
              "    <tr>\n",
              "      <th>0</th>\n",
              "      <td>2004-08-20</td>\n",
              "      <td>50.316402</td>\n",
              "      <td>54.336334</td>\n",
              "      <td>50.062355</td>\n",
              "      <td>53.952770</td>\n",
              "      <td>53.952770</td>\n",
              "      <td>22942874</td>\n",
              "    </tr>\n",
              "    <tr>\n",
              "      <th>1</th>\n",
              "      <td>2004-08-23</td>\n",
              "      <td>55.168217</td>\n",
              "      <td>56.528118</td>\n",
              "      <td>54.321388</td>\n",
              "      <td>54.495735</td>\n",
              "      <td>54.495735</td>\n",
              "      <td>18342897</td>\n",
              "    </tr>\n",
              "    <tr>\n",
              "      <th>2</th>\n",
              "      <td>2004-08-24</td>\n",
              "      <td>55.412300</td>\n",
              "      <td>55.591629</td>\n",
              "      <td>51.591621</td>\n",
              "      <td>52.239197</td>\n",
              "      <td>52.239197</td>\n",
              "      <td>15319808</td>\n",
              "    </tr>\n",
              "    <tr>\n",
              "      <th>3</th>\n",
              "      <td>2004-08-25</td>\n",
              "      <td>52.284027</td>\n",
              "      <td>53.798351</td>\n",
              "      <td>51.746044</td>\n",
              "      <td>52.802086</td>\n",
              "      <td>52.802086</td>\n",
              "      <td>9232276</td>\n",
              "    </tr>\n",
              "    <tr>\n",
              "      <th>4</th>\n",
              "      <td>2004-08-26</td>\n",
              "      <td>52.279045</td>\n",
              "      <td>53.773445</td>\n",
              "      <td>52.134586</td>\n",
              "      <td>53.753517</td>\n",
              "      <td>53.753517</td>\n",
              "      <td>7128620</td>\n",
              "    </tr>\n",
              "    <tr>\n",
              "      <th>...</th>\n",
              "      <td>...</td>\n",
              "      <td>...</td>\n",
              "      <td>...</td>\n",
              "      <td>...</td>\n",
              "      <td>...</td>\n",
              "      <td>...</td>\n",
              "      <td>...</td>\n",
              "    </tr>\n",
              "    <tr>\n",
              "      <th>4286</th>\n",
              "      <td>2021-08-30</td>\n",
              "      <td>2894.090088</td>\n",
              "      <td>2929.790039</td>\n",
              "      <td>2892.000000</td>\n",
              "      <td>2909.389893</td>\n",
              "      <td>2909.389893</td>\n",
              "      <td>845800</td>\n",
              "    </tr>\n",
              "    <tr>\n",
              "      <th>4287</th>\n",
              "      <td>2021-08-31</td>\n",
              "      <td>2917.689941</td>\n",
              "      <td>2922.239990</td>\n",
              "      <td>2900.000000</td>\n",
              "      <td>2909.239990</td>\n",
              "      <td>2909.239990</td>\n",
              "      <td>1337800</td>\n",
              "    </tr>\n",
              "    <tr>\n",
              "      <th>4288</th>\n",
              "      <td>2021-09-01</td>\n",
              "      <td>2913.000000</td>\n",
              "      <td>2936.409912</td>\n",
              "      <td>2912.290039</td>\n",
              "      <td>2916.840088</td>\n",
              "      <td>2916.840088</td>\n",
              "      <td>791200</td>\n",
              "    </tr>\n",
              "    <tr>\n",
              "      <th>4289</th>\n",
              "      <td>2021-09-02</td>\n",
              "      <td>2918.989990</td>\n",
              "      <td>2926.500000</td>\n",
              "      <td>2882.129883</td>\n",
              "      <td>2884.379883</td>\n",
              "      <td>2884.379883</td>\n",
              "      <td>1092200</td>\n",
              "    </tr>\n",
              "    <tr>\n",
              "      <th>4290</th>\n",
              "      <td>2021-09-03</td>\n",
              "      <td>2882.919922</td>\n",
              "      <td>2907.540039</td>\n",
              "      <td>2870.100098</td>\n",
              "      <td>2895.500000</td>\n",
              "      <td>2895.500000</td>\n",
              "      <td>955200</td>\n",
              "    </tr>\n",
              "  </tbody>\n",
              "</table>\n",
              "<p>4291 rows × 7 columns</p>\n",
              "</div>"
            ],
            "text/plain": [
              "            Date         Open         High  ...        Close    Adj Close    Volume\n",
              "0     2004-08-20    50.316402    54.336334  ...    53.952770    53.952770  22942874\n",
              "1     2004-08-23    55.168217    56.528118  ...    54.495735    54.495735  18342897\n",
              "2     2004-08-24    55.412300    55.591629  ...    52.239197    52.239197  15319808\n",
              "3     2004-08-25    52.284027    53.798351  ...    52.802086    52.802086   9232276\n",
              "4     2004-08-26    52.279045    53.773445  ...    53.753517    53.753517   7128620\n",
              "...          ...          ...          ...  ...          ...          ...       ...\n",
              "4286  2021-08-30  2894.090088  2929.790039  ...  2909.389893  2909.389893    845800\n",
              "4287  2021-08-31  2917.689941  2922.239990  ...  2909.239990  2909.239990   1337800\n",
              "4288  2021-09-01  2913.000000  2936.409912  ...  2916.840088  2916.840088    791200\n",
              "4289  2021-09-02  2918.989990  2926.500000  ...  2884.379883  2884.379883   1092200\n",
              "4290  2021-09-03  2882.919922  2907.540039  ...  2895.500000  2895.500000    955200\n",
              "\n",
              "[4291 rows x 7 columns]"
            ]
          },
          "metadata": {},
          "execution_count": 4
        }
      ]
    },
    {
      "cell_type": "code",
      "metadata": {
        "colab": {
          "base_uri": "https://localhost:8080/"
        },
        "id": "TzJAJY4UiExN",
        "outputId": "f7c67be2-d766-4a48-a2d0-1a99b9d45a1d"
      },
      "source": [
        "df.info()"
      ],
      "execution_count": 5,
      "outputs": [
        {
          "output_type": "stream",
          "name": "stdout",
          "text": [
            "<class 'pandas.core.frame.DataFrame'>\n",
            "RangeIndex: 4291 entries, 0 to 4290\n",
            "Data columns (total 7 columns):\n",
            " #   Column     Non-Null Count  Dtype  \n",
            "---  ------     --------------  -----  \n",
            " 0   Date       4291 non-null   object \n",
            " 1   Open       4291 non-null   float64\n",
            " 2   High       4291 non-null   float64\n",
            " 3   Low        4291 non-null   float64\n",
            " 4   Close      4291 non-null   float64\n",
            " 5   Adj Close  4291 non-null   float64\n",
            " 6   Volume     4291 non-null   int64  \n",
            "dtypes: float64(5), int64(1), object(1)\n",
            "memory usage: 234.8+ KB\n"
          ]
        }
      ]
    },
    {
      "cell_type": "code",
      "metadata": {
        "colab": {
          "base_uri": "https://localhost:8080/"
        },
        "id": "q1Gujf1btpMl",
        "outputId": "87dd3355-57e7-4fad-f215-be130c02ec4d"
      },
      "source": [
        "df.isnull().sum()"
      ],
      "execution_count": 6,
      "outputs": [
        {
          "output_type": "execute_result",
          "data": {
            "text/plain": [
              "Date         0\n",
              "Open         0\n",
              "High         0\n",
              "Low          0\n",
              "Close        0\n",
              "Adj Close    0\n",
              "Volume       0\n",
              "dtype: int64"
            ]
          },
          "metadata": {},
          "execution_count": 6
        }
      ]
    },
    {
      "cell_type": "markdown",
      "metadata": {
        "id": "_H0DRiwYma0q"
      },
      "source": [
        "## Plot Data"
      ]
    },
    {
      "cell_type": "code",
      "metadata": {
        "colab": {
          "base_uri": "https://localhost:8080/",
          "height": 341
        },
        "id": "HuH4bRTuk28k",
        "outputId": "b15f6e99-ed24-44ce-c400-664da1d069b6"
      },
      "source": [
        "dates = df['Date'].values\n",
        "close = df['Close'].values\n",
        " \n",
        " \n",
        "plt.figure(figsize=(15,5))\n",
        "plt.plot(dates, close)\n",
        "plt.title('Close Price Average',\n",
        "          fontsize=20);"
      ],
      "execution_count": 7,
      "outputs": [
        {
          "output_type": "display_data",
          "data": {
            "image/png": "[encoded data removed]",
            "text/plain": [
              "<Figure size 1080x360 with 1 Axes>"
            ]
          },
          "metadata": {
            "needs_background": "light"
          }
        }
      ]
    },
    {
      "cell_type": "markdown",
      "metadata": {
        "id": "TaXD1lz5pMP9"
      },
      "source": [
        "## Drop Unnecessary Column"
      ]
    },
    {
      "cell_type": "code",
      "metadata": {
        "id": "ZLyPDO4KoJBS"
      },
      "source": [
        "df = df.drop(['Date', 'Adj Close'], axis=1)"
      ],
      "execution_count": 8,
      "outputs": []
    },
    {
      "cell_type": "code",
      "metadata": {
        "colab": {
          "base_uri": "https://localhost:8080/",
          "height": 414
        },
        "id": "rP0uREE1p0tb",
        "outputId": "f89fc232-74e0-4ad2-c220-86397de6de08"
      },
      "source": [
        "df"
      ],
      "execution_count": 9,
      "outputs": [
        {
          "output_type": "execute_result",
          "data": {
            "text/html": [
              "<div>\n",
              "<style scoped>\n",
              "    .dataframe tbody tr th:only-of-type {\n",
              "        vertical-align: middle;\n",
              "    }\n",
              "\n",
              "    .dataframe tbody tr th {\n",
              "        vertical-align: top;\n",
              "    }\n",
              "\n",
              "    .dataframe thead th {\n",
              "        text-align: right;\n",
              "    }\n",
              "</style>\n",
              "<table border=\"1\" class=\"dataframe\">\n",
              "  <thead>\n",
              "    <tr style=\"text-align: right;\">\n",
              "      <th></th>\n",
              "      <th>Open</th>\n",
              "      <th>High</th>\n",
              "      <th>Low</th>\n",
              "      <th>Close</th>\n",
              "      <th>Volume</th>\n",
              "    </tr>\n",
              "  </thead>\n",
              "  <tbody>\n",
              "    <tr>\n",
              "      <th>0</th>\n",
              "      <td>50.316402</td>\n",
              "      <td>54.336334</td>\n",
              "      <td>50.062355</td>\n",
              "      <td>53.952770</td>\n",
              "      <td>22942874</td>\n",
              "    </tr>\n",
              "    <tr>\n",
              "      <th>1</th>\n",
              "      <td>55.168217</td>\n",
              "      <td>56.528118</td>\n",
              "      <td>54.321388</td>\n",
              "      <td>54.495735</td>\n",
              "      <td>18342897</td>\n",
              "    </tr>\n",
              "    <tr>\n",
              "      <th>2</th>\n",
              "      <td>55.412300</td>\n",
              "      <td>55.591629</td>\n",
              "      <td>51.591621</td>\n",
              "      <td>52.239197</td>\n",
              "      <td>15319808</td>\n",
              "    </tr>\n",
              "    <tr>\n",
              "      <th>3</th>\n",
              "      <td>52.284027</td>\n",
              "      <td>53.798351</td>\n",
              "      <td>51.746044</td>\n",
              "      <td>52.802086</td>\n",
              "      <td>9232276</td>\n",
              "    </tr>\n",
              "    <tr>\n",
              "      <th>4</th>\n",
              "      <td>52.279045</td>\n",
              "      <td>53.773445</td>\n",
              "      <td>52.134586</td>\n",
              "      <td>53.753517</td>\n",
              "      <td>7128620</td>\n",
              "    </tr>\n",
              "    <tr>\n",
              "      <th>...</th>\n",
              "      <td>...</td>\n",
              "      <td>...</td>\n",
              "      <td>...</td>\n",
              "      <td>...</td>\n",
              "      <td>...</td>\n",
              "    </tr>\n",
              "    <tr>\n",
              "      <th>4286</th>\n",
              "      <td>2894.090088</td>\n",
              "      <td>2929.790039</td>\n",
              "      <td>2892.000000</td>\n",
              "      <td>2909.389893</td>\n",
              "      <td>845800</td>\n",
              "    </tr>\n",
              "    <tr>\n",
              "      <th>4287</th>\n",
              "      <td>2917.689941</td>\n",
              "      <td>2922.239990</td>\n",
              "      <td>2900.000000</td>\n",
              "      <td>2909.239990</td>\n",
              "      <td>1337800</td>\n",
              "    </tr>\n",
              "    <tr>\n",
              "      <th>4288</th>\n",
              "      <td>2913.000000</td>\n",
              "      <td>2936.409912</td>\n",
              "      <td>2912.290039</td>\n",
              "      <td>2916.840088</td>\n",
              "      <td>791200</td>\n",
              "    </tr>\n",
              "    <tr>\n",
              "      <th>4289</th>\n",
              "      <td>2918.989990</td>\n",
              "      <td>2926.500000</td>\n",
              "      <td>2882.129883</td>\n",
              "      <td>2884.379883</td>\n",
              "      <td>1092200</td>\n",
              "    </tr>\n",
              "    <tr>\n",
              "      <th>4290</th>\n",
              "      <td>2882.919922</td>\n",
              "      <td>2907.540039</td>\n",
              "      <td>2870.100098</td>\n",
              "      <td>2895.500000</td>\n",
              "      <td>955200</td>\n",
              "    </tr>\n",
              "  </tbody>\n",
              "</table>\n",
              "<p>4291 rows × 5 columns</p>\n",
              "</div>"
            ],
            "text/plain": [
              "             Open         High          Low        Close    Volume\n",
              "0       50.316402    54.336334    50.062355    53.952770  22942874\n",
              "1       55.168217    56.528118    54.321388    54.495735  18342897\n",
              "2       55.412300    55.591629    51.591621    52.239197  15319808\n",
              "3       52.284027    53.798351    51.746044    52.802086   9232276\n",
              "4       52.279045    53.773445    52.134586    53.753517   7128620\n",
              "...           ...          ...          ...          ...       ...\n",
              "4286  2894.090088  2929.790039  2892.000000  2909.389893    845800\n",
              "4287  2917.689941  2922.239990  2900.000000  2909.239990   1337800\n",
              "4288  2913.000000  2936.409912  2912.290039  2916.840088    791200\n",
              "4289  2918.989990  2926.500000  2882.129883  2884.379883   1092200\n",
              "4290  2882.919922  2907.540039  2870.100098  2895.500000    955200\n",
              "\n",
              "[4291 rows x 5 columns]"
            ]
          },
          "metadata": {},
          "execution_count": 9
        }
      ]
    },
    {
      "cell_type": "markdown",
      "metadata": {
        "id": "HcWPP-LHs9Oh"
      },
      "source": [
        "## Scaling Data "
      ]
    },
    {
      "cell_type": "code",
      "metadata": {
        "id": "PL10Eytkp7-x"
      },
      "source": [
        "min_max_scaler = MinMaxScaler()\n",
        "df = min_max_scaler.fit_transform(df)"
      ],
      "execution_count": 10,
      "outputs": []
    },
    {
      "cell_type": "code",
      "metadata": {
        "colab": {
          "base_uri": "https://localhost:8080/"
        },
        "id": "zk8fE9YutfoL",
        "outputId": "1978e926-f8b0-4786-87f2-6ff9d4a28638"
      },
      "source": [
        "df"
      ],
      "execution_count": 11,
      "outputs": [
        {
          "output_type": "execute_result",
          "data": {
            "text/plain": [
              "array([[3.15935064e-04, 1.26702642e-03, 2.71423928e-04, 1.44208948e-03,\n",
              "        2.77885876e-01],\n",
              "       [2.00671026e-03, 2.02655143e-03, 1.75903339e-03, 1.63147241e-03,\n",
              "        2.22151352e-01],\n",
              "       [2.09176904e-03, 1.70202729e-03, 8.05571134e-04, 8.44405502e-04,\n",
              "        1.85522815e-01],\n",
              "       ...,\n",
              "       [9.97912590e-01, 1.00000000e+00, 1.00000000e+00, 1.00000000e+00,\n",
              "        9.49040107e-03],\n",
              "       [1.00000000e+00, 9.96565891e-01, 9.89465559e-01, 9.88678075e-01,\n",
              "        1.31373958e-02],\n",
              "       [9.87430193e-01, 9.89995643e-01, 9.85263755e-01, 9.92556705e-01,\n",
              "        1.14774680e-02]])"
            ]
          },
          "metadata": {},
          "execution_count": 11
        }
      ]
    },
    {
      "cell_type": "code",
      "metadata": {
        "colab": {
          "base_uri": "https://localhost:8080/"
        },
        "id": "YW7vvxWZwEIW",
        "outputId": "909c9bb9-f134-4b49-e93d-f67c66891dff"
      },
      "source": [
        "df.shape"
      ],
      "execution_count": 12,
      "outputs": [
        {
          "output_type": "execute_result",
          "data": {
            "text/plain": [
              "(4291, 5)"
            ]
          },
          "metadata": {},
          "execution_count": 12
        }
      ]
    },
    {
      "cell_type": "code",
      "metadata": {
        "id": "-CnxPZE2t3Yn"
      },
      "source": [
        "X_train =[]\n",
        "y_train = []\n",
        "\n",
        "for i in range(30, df.shape[0]):\n",
        "  X_train.append(df[i-30:i])\n",
        "  y_train.append(df[i,0])"
      ],
      "execution_count": 13,
      "outputs": []
    },
    {
      "cell_type": "code",
      "metadata": {
        "id": "GUjfI42pwL9S"
      },
      "source": [
        "X_train, y_train = np.array(X_train), np.array(y_train)"
      ],
      "execution_count": 14,
      "outputs": []
    },
    {
      "cell_type": "code",
      "metadata": {
        "colab": {
          "base_uri": "https://localhost:8080/"
        },
        "id": "ZItz9fCNwWDj",
        "outputId": "17fee8fb-5b40-4b91-9f5f-526c905f3234"
      },
      "source": [
        "X_train.shape"
      ],
      "execution_count": 15,
      "outputs": [
        {
          "output_type": "execute_result",
          "data": {
            "text/plain": [
              "(4261, 30, 5)"
            ]
          },
          "metadata": {},
          "execution_count": 15
        }
      ]
    },
    {
      "cell_type": "code",
      "metadata": {
        "colab": {
          "base_uri": "https://localhost:8080/"
        },
        "id": "JL8UUE-NwfoV",
        "outputId": "e5159197-d52c-4220-a295-f135826998c3"
      },
      "source": [
        "y_train.shape"
      ],
      "execution_count": 16,
      "outputs": [
        {
          "output_type": "execute_result",
          "data": {
            "text/plain": [
              "(4261,)"
            ]
          },
          "metadata": {},
          "execution_count": 16
        }
      ]
    },
    {
      "cell_type": "markdown",
      "metadata": {
        "id": "2qBN9v8m0w6n"
      },
      "source": [
        "## Build Model"
      ]
    },
    {
      "cell_type": "code",
      "metadata": {
        "id": "cZXWS9jYwilf"
      },
      "source": [
        "model = tf.keras.models.Sequential([\n",
        "  tf.keras.layers.LSTM(50, activation=\"relu\", return_sequences=True, input_shape=(X_train.shape[1], 5)),\n",
        "  tf.keras.layers.LSTM(60, activation=\"relu\", return_sequences=True),\n",
        "  tf.keras.layers.LSTM(80, activation=\"relu\", return_sequences=True),\n",
        "  tf.keras.layers.Dense(30, activation=\"relu\"),\n",
        "  tf.keras.layers.Dense(10, activation=\"relu\"),\n",
        "  tf.keras.layers.Dense(1),\n",
        "])"
      ],
      "execution_count": 17,
      "outputs": []
    },
    {
      "cell_type": "code",
      "metadata": {
        "colab": {
          "base_uri": "https://localhost:8080/"
        },
        "id": "ydBe4TzY2x0G",
        "outputId": "73de9657-d261-4767-c8ce-1f8128a71fce"
      },
      "source": [
        "model.summary()"
      ],
      "execution_count": 18,
      "outputs": [
        {
          "output_type": "stream",
          "name": "stdout",
          "text": [
            "Model: \"sequential\"\n",
            "_________________________________________________________________\n",
            "Layer (type)                 Output Shape              Param #   \n",
            "=================================================================\n",
            "lstm (LSTM)                  (None, 30, 50)            11200     \n",
            "_________________________________________________________________\n",
            "lstm_1 (LSTM)                (None, 30, 60)            26640     \n",
            "_________________________________________________________________\n",
            "lstm_2 (LSTM)                (None, 30, 80)            45120     \n",
            "_________________________________________________________________\n",
            "dense (Dense)                (None, 30, 30)            2430      \n",
            "_________________________________________________________________\n",
            "dense_1 (Dense)              (None, 30, 10)            310       \n",
            "_________________________________________________________________\n",
            "dense_2 (Dense)              (None, 30, 1)             11        \n",
            "=================================================================\n",
            "Total params: 85,711\n",
            "Trainable params: 85,711\n",
            "Non-trainable params: 0\n",
            "_________________________________________________________________\n"
          ]
        }
      ]
    },
    {
      "cell_type": "code",
      "metadata": {
        "id": "1rtuRDOq8F5t"
      },
      "source": [
        "optimizer = tf.keras.optimizers.SGD(learning_rate=1.0000e-04, momentum=0.9)\n",
        "model.compile(loss=tf.keras.losses.Huber(),\n",
        "              optimizer=optimizer,\n",
        "              metrics=[\"mae\"])"
      ],
      "execution_count": 19,
      "outputs": []
    },
    {
      "cell_type": "code",
      "metadata": {
        "id": "-ffc1zmN8jbT"
      },
      "source": [
        "class myCallback(tf.keras.callbacks.Callback):\n",
        "  def on_epoch_end(self, epoch, logs={}):\n",
        "    if(logs.get('mae')<0.1):\n",
        "      print(\"\\nMAE dari model telah mencapai < 10% skala data\")\n",
        "      self.model.stop_training = True\n",
        "callbacks = myCallback()"
      ],
      "execution_count": 20,
      "outputs": []
    },
    {
      "cell_type": "code",
      "metadata": {
        "colab": {
          "base_uri": "https://localhost:8080/"
        },
        "id": "0XShD1-Y8mE3",
        "outputId": "30043f12-ea67-4ea3-aae8-00e0455106bb"
      },
      "source": [
        "history = model.fit(X_train, \n",
        "                    y_train, \n",
        "                    epochs=200,\n",
        "                    batch_size=128,\n",
        "                    validation_split=0.2, # Validation set = 20% \n",
        "                    callbacks=[callbacks])"
      ],
      "execution_count": 21,
      "outputs": [
        {
          "output_type": "stream",
          "name": "stdout",
          "text": [
            "Epoch 1/200\n",
            "27/27 [==============================] - 8s 156ms/step - loss: 0.0112 - mae: 0.1214 - val_loss: 0.1322 - val_mae: 0.4875\n",
            "Epoch 2/200\n",
            "27/27 [==============================] - 4s 130ms/step - loss: 0.0102 - mae: 0.1136 - val_loss: 0.1279 - val_mae: 0.4786\n",
            "Epoch 3/200\n",
            "27/27 [==============================] - 3s 128ms/step - loss: 0.0092 - mae: 0.1052 - val_loss: 0.1233 - val_mae: 0.4688\n",
            "Epoch 4/200\n",
            "27/27 [==============================] - 3s 129ms/step - loss: 0.0083 - mae: 0.0975 - val_loss: 0.1192 - val_mae: 0.4600\n",
            "\n",
            "MAE dari model telah mencapai < 10% skala data\n"
          ]
        }
      ]
    },
    {
      "cell_type": "markdown",
      "metadata": {
        "id": "9EyGxylVckbq"
      },
      "source": [
        "## Loss and MAE Plots During Training and Validation"
      ]
    },
    {
      "cell_type": "code",
      "metadata": {
        "colab": {
          "base_uri": "https://localhost:8080/",
          "height": 422
        },
        "id": "7gf34ugR-eSV",
        "outputId": "b9e51a79-7905-4bb8-dcf4-c7e171274f51"
      },
      "source": [
        "plt.figure(figsize=(10, 6))\n",
        "plt.plot(history.history['loss'], label='Train Loss')\n",
        "plt.plot(history.history['val_loss'], label='Validation Loss')\n",
        "plt.title('Train and Validation Loss Graphs')\n",
        "plt.xlabel('Epochs')\n",
        "plt.ylabel('Loss')\n",
        "plt.legend()"
      ],
      "execution_count": 22,
      "outputs": [
        {
          "output_type": "execute_result",
          "data": {
            "text/plain": [
              "<matplotlib.legend.Legend at 0x7ff8c6f15f90>"
            ]
          },
          "metadata": {},
          "execution_count": 22
        },
        {
          "output_type": "display_data",
          "data": {
            "image/png": "[encoded data removed]",
            "text/plain": [
              "<Figure size 720x432 with 1 Axes>"
            ]
          },
          "metadata": {
            "needs_background": "light"
          }
        }
      ]
    },
    {
      "cell_type": "code",
      "metadata": {
        "colab": {
          "base_uri": "https://localhost:8080/",
          "height": 422
        },
        "id": "X43Innsa-INn",
        "outputId": "6125ae88-4509-4fc3-ebff-0740c0d5ec43"
      },
      "source": [
        "plt.figure(figsize=(18, 6))\n",
        "plt.plot(history.history['mae'], label='Train MAE')\n",
        "plt.plot(history.history['val_mae'], label='Validation MAE')\n",
        "plt.title('Train and Validation MAE Graphs')\n",
        "plt.xlabel('Epochs')\n",
        "plt.ylabel('MAE')\n",
        "plt.legend()"
      ],
      "execution_count": 23,
      "outputs": [
        {
          "output_type": "execute_result",
          "data": {
            "text/plain": [
              "<matplotlib.legend.Legend at 0x7ff8c696f110>"
            ]
          },
          "metadata": {},
          "execution_count": 23
        },
        {
          "output_type": "display_data",
          "data": {
            "image/png": "[encoded data removed]",
            "text/plain": [
              "<Figure size 1296x432 with 1 Axes>"
            ]
          },
          "metadata": {
            "needs_background": "light"
          }
        }
      ]
    }
  ]
}